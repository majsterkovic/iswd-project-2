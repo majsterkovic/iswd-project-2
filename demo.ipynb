{
 "cells": [
  {
   "cell_type": "markdown",
   "id": "9d4eee69-79b1-40ca-a1c5-c73046dadbe5",
   "metadata": {
    "tags": []
   },
   "source": [
    "# Preprocessing"
   ]
  },
  {
   "cell_type": "code",
   "execution_count": 1,
   "id": "703f3349-f2c4-4ef4-893f-3d71bb327c66",
   "metadata": {},
   "outputs": [],
   "source": [
    "import pandas as pd"
   ]
  },
  {
   "cell_type": "code",
   "execution_count": 2,
   "id": "e985c2b0-babb-40da-9adf-4ac9286cc143",
   "metadata": {
    "tags": []
   },
   "outputs": [
    {
     "data": {
      "text/html": [
       "<div>\n",
       "<style scoped>\n",
       "    .dataframe tbody tr th:only-of-type {\n",
       "        vertical-align: middle;\n",
       "    }\n",
       "\n",
       "    .dataframe tbody tr th {\n",
       "        vertical-align: top;\n",
       "    }\n",
       "\n",
       "    .dataframe thead th {\n",
       "        text-align: right;\n",
       "    }\n",
       "</style>\n",
       "<table border=\"1\" class=\"dataframe\">\n",
       "  <thead>\n",
       "    <tr style=\"text-align: right;\">\n",
       "      <th></th>\n",
       "      <th>Nr</th>\n",
       "      <th>Miasto</th>\n",
       "      <th>Czas dojazdu samochodem</th>\n",
       "      <th>Liczba ludności</th>\n",
       "      <th>Średnia temperatura w lipcu</th>\n",
       "      <th>Liczba deszczowych dni w lipcu</th>\n",
       "      <th>Zanieczyszczenia powietrza [**]</th>\n",
       "      <th>Zanieczyszczenia powietrza</th>\n",
       "    </tr>\n",
       "  </thead>\n",
       "  <tbody>\n",
       "    <tr>\n",
       "      <th>0</th>\n",
       "      <td>1</td>\n",
       "      <td>Białystok</td>\n",
       "      <td>5 godzin 6 minut</td>\n",
       "      <td>293413</td>\n",
       "      <td>19.5</td>\n",
       "      <td>10</td>\n",
       "      <td>111</td>\n",
       "      <td>5</td>\n",
       "    </tr>\n",
       "    <tr>\n",
       "      <th>1</th>\n",
       "      <td>2</td>\n",
       "      <td>Bydgoszcz</td>\n",
       "      <td>1 godzina 58 minut</td>\n",
       "      <td>337666</td>\n",
       "      <td>19.4</td>\n",
       "      <td>9</td>\n",
       "      <td>104</td>\n",
       "      <td>5</td>\n",
       "    </tr>\n",
       "    <tr>\n",
       "      <th>2</th>\n",
       "      <td>3</td>\n",
       "      <td>Gdańsk</td>\n",
       "      <td>3 godziny 46 minut</td>\n",
       "      <td>486022</td>\n",
       "      <td>18.9</td>\n",
       "      <td>10</td>\n",
       "      <td>114</td>\n",
       "      <td>5</td>\n",
       "    </tr>\n",
       "    <tr>\n",
       "      <th>3</th>\n",
       "      <td>4</td>\n",
       "      <td>Poznań</td>\n",
       "      <td>57 minut</td>\n",
       "      <td>546859</td>\n",
       "      <td>19.8</td>\n",
       "      <td>9</td>\n",
       "      <td>106</td>\n",
       "      <td>5</td>\n",
       "    </tr>\n",
       "    <tr>\n",
       "      <th>4</th>\n",
       "      <td>5</td>\n",
       "      <td>Katowice</td>\n",
       "      <td>3 godziny 34 minuty</td>\n",
       "      <td>289162</td>\n",
       "      <td>19.5</td>\n",
       "      <td>11</td>\n",
       "      <td>14</td>\n",
       "      <td>1</td>\n",
       "    </tr>\n",
       "    <tr>\n",
       "      <th>5</th>\n",
       "      <td>6</td>\n",
       "      <td>Kielce</td>\n",
       "      <td>4 godziny 6 minut</td>\n",
       "      <td>192498</td>\n",
       "      <td>19.4</td>\n",
       "      <td>10</td>\n",
       "      <td>44</td>\n",
       "      <td>2</td>\n",
       "    </tr>\n",
       "    <tr>\n",
       "      <th>6</th>\n",
       "      <td>7</td>\n",
       "      <td>Kraków</td>\n",
       "      <td>4 godziny 25 minut</td>\n",
       "      <td>800653</td>\n",
       "      <td>19.5</td>\n",
       "      <td>11</td>\n",
       "      <td>7</td>\n",
       "      <td>1</td>\n",
       "    </tr>\n",
       "    <tr>\n",
       "      <th>7</th>\n",
       "      <td>8</td>\n",
       "      <td>Lublin</td>\n",
       "      <td>4 godziny 45 minut</td>\n",
       "      <td>334681</td>\n",
       "      <td>17.8</td>\n",
       "      <td>9</td>\n",
       "      <td>100</td>\n",
       "      <td>5</td>\n",
       "    </tr>\n",
       "    <tr>\n",
       "      <th>8</th>\n",
       "      <td>9</td>\n",
       "      <td>Łódź</td>\n",
       "      <td>2 godziny 13 minut</td>\n",
       "      <td>670642</td>\n",
       "      <td>19.5</td>\n",
       "      <td>10</td>\n",
       "      <td>66</td>\n",
       "      <td>3</td>\n",
       "    </tr>\n",
       "    <tr>\n",
       "      <th>9</th>\n",
       "      <td>10</td>\n",
       "      <td>Opole</td>\n",
       "      <td>2 godziny 39 minut</td>\n",
       "      <td>127839</td>\n",
       "      <td>20.1</td>\n",
       "      <td>10</td>\n",
       "      <td>81</td>\n",
       "      <td>4</td>\n",
       "    </tr>\n",
       "    <tr>\n",
       "      <th>10</th>\n",
       "      <td>11</td>\n",
       "      <td>Rzeszów</td>\n",
       "      <td>5 godzin 59 minut</td>\n",
       "      <td>198609</td>\n",
       "      <td>19.8</td>\n",
       "      <td>12</td>\n",
       "      <td>73</td>\n",
       "      <td>3</td>\n",
       "    </tr>\n",
       "    <tr>\n",
       "      <th>11</th>\n",
       "      <td>12</td>\n",
       "      <td>Warszawa</td>\n",
       "      <td>3 godziny 6 minut</td>\n",
       "      <td>1860281</td>\n",
       "      <td>18.0</td>\n",
       "      <td>9</td>\n",
       "      <td>68</td>\n",
       "      <td>3</td>\n",
       "    </tr>\n",
       "    <tr>\n",
       "      <th>12</th>\n",
       "      <td>13</td>\n",
       "      <td>Wrocław</td>\n",
       "      <td>1 godzina 45 minut</td>\n",
       "      <td>672929</td>\n",
       "      <td>20.1</td>\n",
       "      <td>9</td>\n",
       "      <td>42</td>\n",
       "      <td>2</td>\n",
       "    </tr>\n",
       "    <tr>\n",
       "      <th>13</th>\n",
       "      <td>14</td>\n",
       "      <td>Zielona Góra</td>\n",
       "      <td>2 godziny 14 minut</td>\n",
       "      <td>140403</td>\n",
       "      <td>20.1</td>\n",
       "      <td>9</td>\n",
       "      <td>107</td>\n",
       "      <td>5</td>\n",
       "    </tr>\n",
       "  </tbody>\n",
       "</table>\n",
       "</div>"
      ],
      "text/plain": [
       "    Nr        Miasto Czas dojazdu samochodem  Liczba ludności  \\\n",
       "0    1     Białystok        5 godzin 6 minut           293413   \n",
       "1    2     Bydgoszcz      1 godzina 58 minut           337666   \n",
       "2    3        Gdańsk      3 godziny 46 minut           486022   \n",
       "3    4        Poznań                57 minut           546859   \n",
       "4    5      Katowice     3 godziny 34 minuty           289162   \n",
       "5    6        Kielce       4 godziny 6 minut           192498   \n",
       "6    7        Kraków      4 godziny 25 minut           800653   \n",
       "7    8        Lublin      4 godziny 45 minut           334681   \n",
       "8    9          Łódź      2 godziny 13 minut           670642   \n",
       "9   10         Opole      2 godziny 39 minut           127839   \n",
       "10  11       Rzeszów       5 godzin 59 minut           198609   \n",
       "11  12      Warszawa       3 godziny 6 minut          1860281   \n",
       "12  13       Wrocław      1 godzina 45 minut           672929   \n",
       "13  14  Zielona Góra      2 godziny 14 minut           140403   \n",
       "\n",
       "    Średnia temperatura w lipcu  Liczba deszczowych dni w lipcu  \\\n",
       "0                          19.5                              10   \n",
       "1                          19.4                               9   \n",
       "2                          18.9                              10   \n",
       "3                          19.8                               9   \n",
       "4                          19.5                              11   \n",
       "5                          19.4                              10   \n",
       "6                          19.5                              11   \n",
       "7                          17.8                               9   \n",
       "8                          19.5                              10   \n",
       "9                          20.1                              10   \n",
       "10                         19.8                              12   \n",
       "11                         18.0                               9   \n",
       "12                         20.1                               9   \n",
       "13                         20.1                               9   \n",
       "\n",
       "    Zanieczyszczenia powietrza [**]  Zanieczyszczenia powietrza  \n",
       "0                               111                           5  \n",
       "1                               104                           5  \n",
       "2                               114                           5  \n",
       "3                               106                           5  \n",
       "4                                14                           1  \n",
       "5                                44                           2  \n",
       "6                                 7                           1  \n",
       "7                               100                           5  \n",
       "8                                66                           3  \n",
       "9                                81                           4  \n",
       "10                               73                           3  \n",
       "11                               68                           3  \n",
       "12                               42                           2  \n",
       "13                              107                           5  "
      ]
     },
     "execution_count": 2,
     "metadata": {},
     "output_type": "execute_result"
    }
   ],
   "source": [
    "df = pd.read_csv('dane.csv')\n",
    "df"
   ]
  },
  {
   "cell_type": "code",
   "execution_count": 3,
   "id": "3c468e80-90d2-4efe-a9db-618fbf41c9ba",
   "metadata": {
    "tags": []
   },
   "outputs": [],
   "source": [
    "df.drop(['Nr', 'Zanieczyszczenia powietrza [**]'], axis=1, inplace=True)"
   ]
  },
  {
   "cell_type": "code",
   "execution_count": 4,
   "id": "7e000fbd-4f5f-4b9c-ae6a-01e99d3b2e69",
   "metadata": {
    "tags": []
   },
   "outputs": [],
   "source": [
    "import re\n",
    "\n",
    "def time_to_minutes(time_str):\n",
    "    matches = re.findall(r'\\d+', time_str)\n",
    "    if len(matches) >= 2:\n",
    "        hours = int(matches[0])\n",
    "        minutes = int(matches[1])\n",
    "        total_minutes = hours * 60 + minutes\n",
    "        return total_minutes\n",
    "    else:\n",
    "        return None\n",
    "\n",
    "df['Czas dojazdu samochodem'] = df['Czas dojazdu samochodem'].apply(lambda x: time_to_minutes(x))"
   ]
  },
  {
   "cell_type": "code",
   "execution_count": 5,
   "id": "2ac66206-da01-4734-9d25-24327396c2b0",
   "metadata": {
    "tags": []
   },
   "outputs": [],
   "source": [
    "df.loc[df['Miasto'] == 'Poznań', 'Czas dojazdu samochodem'] = 57"
   ]
  },
  {
   "cell_type": "code",
   "execution_count": 6,
   "id": "e0de2eb3-d0d3-44a8-8f90-7d210f063e39",
   "metadata": {
    "tags": []
   },
   "outputs": [
    {
     "name": "stdout",
     "output_type": "stream",
     "text": [
      "Czas dojazdu samochodem 57.0 359.0\n",
      " MIN:  ['Poznań']\n",
      " MAX:  ['Rzeszów']\n",
      "\n",
      "Liczba ludności 127839 1860281\n",
      " MIN:  ['Opole']\n",
      " MAX:  ['Warszawa']\n",
      "\n",
      "Średnia temperatura w lipcu 17.8 20.1\n",
      " MIN:  ['Lublin']\n",
      " MAX:  ['Opole' 'Wrocław' 'Zielona Góra']\n",
      "\n",
      "Liczba deszczowych dni w lipcu 9 12\n",
      " MIN:  ['Bydgoszcz' 'Poznań' 'Lublin' 'Warszawa' 'Wrocław' 'Zielona Góra']\n",
      " MAX:  ['Rzeszów']\n",
      "\n",
      "Zanieczyszczenia powietrza 1 5\n",
      " MIN:  ['Katowice' 'Kraków']\n",
      " MAX:  ['Białystok' 'Bydgoszcz' 'Gdańsk' 'Poznań' 'Lublin' 'Zielona Góra']\n",
      "\n"
     ]
    }
   ],
   "source": [
    "for col in df.columns[1:]:\n",
    "    minv = df[col].min() \n",
    "    maxv = df[col].max()\n",
    "    print(col, minv, maxv)\n",
    "    print(' MIN: ', df[df[col]==minv]['Miasto'].values)    \n",
    "    print(' MAX: ', df[df[col]==maxv]['Miasto'].values)\n",
    "    print()"
   ]
  },
  {
   "cell_type": "code",
   "execution_count": 7,
   "id": "ae5cff73-b7c7-40ea-91b3-e1491437affb",
   "metadata": {
    "tags": []
   },
   "outputs": [
    {
     "data": {
      "text/html": [
       "<div>\n",
       "<style scoped>\n",
       "    .dataframe tbody tr th:only-of-type {\n",
       "        vertical-align: middle;\n",
       "    }\n",
       "\n",
       "    .dataframe tbody tr th {\n",
       "        vertical-align: top;\n",
       "    }\n",
       "\n",
       "    .dataframe thead th {\n",
       "        text-align: right;\n",
       "    }\n",
       "</style>\n",
       "<table border=\"1\" class=\"dataframe\">\n",
       "  <thead>\n",
       "    <tr style=\"text-align: right;\">\n",
       "      <th></th>\n",
       "      <th>count</th>\n",
       "      <th>mean</th>\n",
       "      <th>std</th>\n",
       "      <th>min</th>\n",
       "      <th>25%</th>\n",
       "      <th>50%</th>\n",
       "      <th>75%</th>\n",
       "      <th>max</th>\n",
       "    </tr>\n",
       "  </thead>\n",
       "  <tbody>\n",
       "    <tr>\n",
       "      <th>Czas dojazdu samochodem</th>\n",
       "      <td>14.0</td>\n",
       "      <td>199.500000</td>\n",
       "      <td>86.767372</td>\n",
       "      <td>57.0</td>\n",
       "      <td>133.25</td>\n",
       "      <td>200.0</td>\n",
       "      <td>260.25</td>\n",
       "      <td>359.0</td>\n",
       "    </tr>\n",
       "    <tr>\n",
       "      <th>Liczba ludności</th>\n",
       "      <td>14.0</td>\n",
       "      <td>496546.928571</td>\n",
       "      <td>446871.634679</td>\n",
       "      <td>127839.0</td>\n",
       "      <td>221247.25</td>\n",
       "      <td>336173.5</td>\n",
       "      <td>639696.25</td>\n",
       "      <td>1860281.0</td>\n",
       "    </tr>\n",
       "    <tr>\n",
       "      <th>Średnia temperatura w lipcu</th>\n",
       "      <td>14.0</td>\n",
       "      <td>19.385714</td>\n",
       "      <td>0.712371</td>\n",
       "      <td>17.8</td>\n",
       "      <td>19.40</td>\n",
       "      <td>19.5</td>\n",
       "      <td>19.80</td>\n",
       "      <td>20.1</td>\n",
       "    </tr>\n",
       "    <tr>\n",
       "      <th>Liczba deszczowych dni w lipcu</th>\n",
       "      <td>14.0</td>\n",
       "      <td>9.857143</td>\n",
       "      <td>0.949262</td>\n",
       "      <td>9.0</td>\n",
       "      <td>9.00</td>\n",
       "      <td>10.0</td>\n",
       "      <td>10.00</td>\n",
       "      <td>12.0</td>\n",
       "    </tr>\n",
       "    <tr>\n",
       "      <th>Zanieczyszczenia powietrza</th>\n",
       "      <td>14.0</td>\n",
       "      <td>3.500000</td>\n",
       "      <td>1.556624</td>\n",
       "      <td>1.0</td>\n",
       "      <td>2.25</td>\n",
       "      <td>3.5</td>\n",
       "      <td>5.00</td>\n",
       "      <td>5.0</td>\n",
       "    </tr>\n",
       "  </tbody>\n",
       "</table>\n",
       "</div>"
      ],
      "text/plain": [
       "                                count           mean            std       min  \\\n",
       "Czas dojazdu samochodem          14.0     199.500000      86.767372      57.0   \n",
       "Liczba ludności                  14.0  496546.928571  446871.634679  127839.0   \n",
       "Średnia temperatura w lipcu      14.0      19.385714       0.712371      17.8   \n",
       "Liczba deszczowych dni w lipcu   14.0       9.857143       0.949262       9.0   \n",
       "Zanieczyszczenia powietrza       14.0       3.500000       1.556624       1.0   \n",
       "\n",
       "                                      25%       50%        75%        max  \n",
       "Czas dojazdu samochodem            133.25     200.0     260.25      359.0  \n",
       "Liczba ludności                 221247.25  336173.5  639696.25  1860281.0  \n",
       "Średnia temperatura w lipcu         19.40      19.5      19.80       20.1  \n",
       "Liczba deszczowych dni w lipcu       9.00      10.0      10.00       12.0  \n",
       "Zanieczyszczenia powietrza           2.25       3.5       5.00        5.0  "
      ]
     },
     "execution_count": 7,
     "metadata": {},
     "output_type": "execute_result"
    }
   ],
   "source": [
    "df.describe().T"
   ]
  },
  {
   "cell_type": "code",
   "execution_count": 8,
   "id": "e66c9adc-fd14-49d2-9b74-0d839a059e5d",
   "metadata": {
    "tags": []
   },
   "outputs": [],
   "source": [
    "cost_columns = ['Czas dojazdu samochodem', 'Liczba deszczowych dni w lipcu']\n",
    "df[cost_columns] = df[cost_columns] * (-1)"
   ]
  },
  {
   "cell_type": "code",
   "execution_count": 9,
   "id": "07b1b331-e217-4050-b103-895f19284680",
   "metadata": {
    "tags": []
   },
   "outputs": [
    {
     "data": {
      "text/plain": [
       "{0: [],\n",
       " 1: [5, 7],\n",
       " 2: [],\n",
       " 3: [0, 1, 2, 4, 5, 7, 10],\n",
       " 4: [],\n",
       " 5: [],\n",
       " 6: [],\n",
       " 7: [],\n",
       " 8: [4, 5],\n",
       " 9: [],\n",
       " 10: [],\n",
       " 11: [],\n",
       " 12: [4, 5],\n",
       " 13: [9]}"
      ]
     },
     "execution_count": 9,
     "metadata": {},
     "output_type": "execute_result"
    }
   ],
   "source": [
    "c = df.columns[1:]\n",
    "df[c] = df[c].astype(float)\n",
    "preferred = {}\n",
    "\n",
    "for i, row in df.iterrows():\n",
    "    if i not in preferred:\n",
    "        preferred[i] = []\n",
    "        \n",
    "    for j, candidate in df.iterrows():\n",
    "        if i != j:\n",
    "            if all(df.iloc[i][c].values >= df.iloc[j][c].values):\n",
    "                preferred[i].append(j)\n",
    "\n",
    "preferred"
   ]
  },
  {
   "cell_type": "markdown",
   "id": "1cb03210-029f-4432-b0a1-797a683e2f6a",
   "metadata": {},
   "source": [
    "# PROMETHEE\n",
    "Dla każdego kryterium trzeba zdefiniować sobię f.użyteczności.\n",
    "Dla uproszczenia pomnożyłem wartości w kolumnach typu koszt przez -1 -> teraz mamy wszystko typu zysk."
   ]
  },
  {
   "cell_type": "code",
   "execution_count": 10,
   "id": "f736b944-0c8f-447e-b897-e1b47aac92c0",
   "metadata": {
    "tags": []
   },
   "outputs": [
    {
     "data": {
      "text/html": [
       "<div>\n",
       "<style scoped>\n",
       "    .dataframe tbody tr th:only-of-type {\n",
       "        vertical-align: middle;\n",
       "    }\n",
       "\n",
       "    .dataframe tbody tr th {\n",
       "        vertical-align: top;\n",
       "    }\n",
       "\n",
       "    .dataframe thead th {\n",
       "        text-align: right;\n",
       "    }\n",
       "</style>\n",
       "<table border=\"1\" class=\"dataframe\">\n",
       "  <thead>\n",
       "    <tr style=\"text-align: right;\">\n",
       "      <th></th>\n",
       "      <th>count</th>\n",
       "      <th>mean</th>\n",
       "      <th>std</th>\n",
       "      <th>min</th>\n",
       "      <th>25%</th>\n",
       "      <th>50%</th>\n",
       "      <th>75%</th>\n",
       "      <th>max</th>\n",
       "    </tr>\n",
       "  </thead>\n",
       "  <tbody>\n",
       "    <tr>\n",
       "      <th>Czas dojazdu samochodem</th>\n",
       "      <td>14.0</td>\n",
       "      <td>-199.500000</td>\n",
       "      <td>86.767372</td>\n",
       "      <td>-359.0</td>\n",
       "      <td>-260.25</td>\n",
       "      <td>-200.0</td>\n",
       "      <td>-133.25</td>\n",
       "      <td>-57.0</td>\n",
       "    </tr>\n",
       "    <tr>\n",
       "      <th>Liczba ludności</th>\n",
       "      <td>14.0</td>\n",
       "      <td>496546.928571</td>\n",
       "      <td>446871.634679</td>\n",
       "      <td>127839.0</td>\n",
       "      <td>221247.25</td>\n",
       "      <td>336173.5</td>\n",
       "      <td>639696.25</td>\n",
       "      <td>1860281.0</td>\n",
       "    </tr>\n",
       "    <tr>\n",
       "      <th>Średnia temperatura w lipcu</th>\n",
       "      <td>14.0</td>\n",
       "      <td>19.385714</td>\n",
       "      <td>0.712371</td>\n",
       "      <td>17.8</td>\n",
       "      <td>19.40</td>\n",
       "      <td>19.5</td>\n",
       "      <td>19.80</td>\n",
       "      <td>20.1</td>\n",
       "    </tr>\n",
       "    <tr>\n",
       "      <th>Liczba deszczowych dni w lipcu</th>\n",
       "      <td>14.0</td>\n",
       "      <td>-9.857143</td>\n",
       "      <td>0.949262</td>\n",
       "      <td>-12.0</td>\n",
       "      <td>-10.00</td>\n",
       "      <td>-10.0</td>\n",
       "      <td>-9.00</td>\n",
       "      <td>-9.0</td>\n",
       "    </tr>\n",
       "    <tr>\n",
       "      <th>Zanieczyszczenia powietrza</th>\n",
       "      <td>14.0</td>\n",
       "      <td>3.500000</td>\n",
       "      <td>1.556624</td>\n",
       "      <td>1.0</td>\n",
       "      <td>2.25</td>\n",
       "      <td>3.5</td>\n",
       "      <td>5.00</td>\n",
       "      <td>5.0</td>\n",
       "    </tr>\n",
       "  </tbody>\n",
       "</table>\n",
       "</div>"
      ],
      "text/plain": [
       "                                count           mean            std       min  \\\n",
       "Czas dojazdu samochodem          14.0    -199.500000      86.767372    -359.0   \n",
       "Liczba ludności                  14.0  496546.928571  446871.634679  127839.0   \n",
       "Średnia temperatura w lipcu      14.0      19.385714       0.712371      17.8   \n",
       "Liczba deszczowych dni w lipcu   14.0      -9.857143       0.949262     -12.0   \n",
       "Zanieczyszczenia powietrza       14.0       3.500000       1.556624       1.0   \n",
       "\n",
       "                                      25%       50%        75%        max  \n",
       "Czas dojazdu samochodem           -260.25    -200.0    -133.25      -57.0  \n",
       "Liczba ludności                 221247.25  336173.5  639696.25  1860281.0  \n",
       "Średnia temperatura w lipcu         19.40      19.5      19.80       20.1  \n",
       "Liczba deszczowych dni w lipcu     -10.00     -10.0      -9.00       -9.0  \n",
       "Zanieczyszczenia powietrza           2.25       3.5       5.00        5.0  "
      ]
     },
     "execution_count": 10,
     "metadata": {},
     "output_type": "execute_result"
    }
   ],
   "source": [
    "df.describe().T"
   ]
  },
  {
   "cell_type": "code",
   "execution_count": 11,
   "id": "9e9a2242-42f6-4c9d-9b41-60c0780f9cb8",
   "metadata": {},
   "outputs": [],
   "source": [
    "q = [30, 50000, 1, 1, 0]\n",
    "p = [60, 100000, 3, 3, 2]\n",
    "w = [2, 2, 1, 2, 3]"
   ]
  },
  {
   "attachments": {
    "e6565d02-5130-4669-96ed-de125d502a62.png": {
     "image/png": "[encoded data removed]"
    }
   },
   "cell_type": "markdown",
   "id": "33387ee7-98c7-48d5-9518-fef69565cc4b",
   "metadata": {},
   "source": [
    "Narazie proste f. uzytecznosci podobne jak na zrzucie <br>\n",
    "![image.png](attachment:e6565d02-5130-4669-96ed-de125d502a62.png)"
   ]
  },
  {
   "cell_type": "code",
   "execution_count": 12,
   "id": "9a872e06-c611-467f-b75d-b22b191b6be8",
   "metadata": {},
   "outputs": [],
   "source": [
    "towns = df['Miasto']"
   ]
  },
  {
   "cell_type": "code",
   "execution_count": 13,
   "id": "00ab5aad-94d6-4478-b06e-55c35a0137d2",
   "metadata": {
    "tags": []
   },
   "outputs": [],
   "source": [
    "df.drop(['Miasto'],axis=1,inplace=True)"
   ]
  },
  {
   "cell_type": "code",
   "execution_count": 14,
   "id": "c60a337a-c732-423b-a031-38a994d4d97e",
   "metadata": {
    "tags": []
   },
   "outputs": [],
   "source": [
    "import numpy as np"
   ]
  },
  {
   "cell_type": "code",
   "execution_count": 15,
   "id": "d90b50c2-497f-427e-8a96-ba52a2bf0e46",
   "metadata": {
    "tags": []
   },
   "outputs": [],
   "source": [
    "num_variants = df.shape[0]\n",
    "num_criteria = df.shape[1]"
   ]
  },
  {
   "cell_type": "code",
   "execution_count": null,
   "id": "bdd3991c-7804-4235-9775-843efafc5a88",
   "metadata": {
    "tags": []
   },
   "outputs": [],
   "source": [
    "pi_array = np.zeros((num_variants, num_variants))"
   ]
  },
  {
   "cell_type": "code",
   "execution_count": 17,
   "id": "d490d5e9-8792-4dce-a1b5-a9560f3996bf",
   "metadata": {
    "tags": []
   },
   "outputs": [
    {
     "data": {
      "text/html": [
       "<div>\n",
       "<style scoped>\n",
       "    .dataframe tbody tr th:only-of-type {\n",
       "        vertical-align: middle;\n",
       "    }\n",
       "\n",
       "    .dataframe tbody tr th {\n",
       "        vertical-align: top;\n",
       "    }\n",
       "\n",
       "    .dataframe thead th {\n",
       "        text-align: right;\n",
       "    }\n",
       "</style>\n",
       "<table border=\"1\" class=\"dataframe\">\n",
       "  <thead>\n",
       "    <tr style=\"text-align: right;\">\n",
       "      <th></th>\n",
       "      <th>Czas dojazdu samochodem</th>\n",
       "      <th>Liczba ludności</th>\n",
       "      <th>Średnia temperatura w lipcu</th>\n",
       "      <th>Liczba deszczowych dni w lipcu</th>\n",
       "      <th>Zanieczyszczenia powietrza</th>\n",
       "    </tr>\n",
       "  </thead>\n",
       "  <tbody>\n",
       "    <tr>\n",
       "      <th>0</th>\n",
       "      <td>-306.0</td>\n",
       "      <td>293413.0</td>\n",
       "      <td>19.5</td>\n",
       "      <td>-10.0</td>\n",
       "      <td>5.0</td>\n",
       "    </tr>\n",
       "    <tr>\n",
       "      <th>1</th>\n",
       "      <td>-118.0</td>\n",
       "      <td>337666.0</td>\n",
       "      <td>19.4</td>\n",
       "      <td>-9.0</td>\n",
       "      <td>5.0</td>\n",
       "    </tr>\n",
       "    <tr>\n",
       "      <th>2</th>\n",
       "      <td>-226.0</td>\n",
       "      <td>486022.0</td>\n",
       "      <td>18.9</td>\n",
       "      <td>-10.0</td>\n",
       "      <td>5.0</td>\n",
       "    </tr>\n",
       "    <tr>\n",
       "      <th>3</th>\n",
       "      <td>-57.0</td>\n",
       "      <td>546859.0</td>\n",
       "      <td>19.8</td>\n",
       "      <td>-9.0</td>\n",
       "      <td>5.0</td>\n",
       "    </tr>\n",
       "    <tr>\n",
       "      <th>4</th>\n",
       "      <td>-214.0</td>\n",
       "      <td>289162.0</td>\n",
       "      <td>19.5</td>\n",
       "      <td>-11.0</td>\n",
       "      <td>1.0</td>\n",
       "    </tr>\n",
       "  </tbody>\n",
       "</table>\n",
       "</div>"
      ],
      "text/plain": [
       "   Czas dojazdu samochodem  Liczba ludności  Średnia temperatura w lipcu  \\\n",
       "0                   -306.0         293413.0                         19.5   \n",
       "1                   -118.0         337666.0                         19.4   \n",
       "2                   -226.0         486022.0                         18.9   \n",
       "3                    -57.0         546859.0                         19.8   \n",
       "4                   -214.0         289162.0                         19.5   \n",
       "\n",
       "   Liczba deszczowych dni w lipcu  Zanieczyszczenia powietrza  \n",
       "0                           -10.0                         5.0  \n",
       "1                            -9.0                         5.0  \n",
       "2                           -10.0                         5.0  \n",
       "3                            -9.0                         5.0  \n",
       "4                           -11.0                         1.0  "
      ]
     },
     "execution_count": 17,
     "metadata": {},
     "output_type": "execute_result"
    }
   ],
   "source": [
    "df.head(5)"
   ]
  },
  {
   "cell_type": "code",
   "execution_count": 18,
   "id": "d06632c1-24a4-4a04-93c5-a67300bfa2bf",
   "metadata": {
    "tags": []
   },
   "outputs": [],
   "source": [
    "def calculate_g(v1, v2, q, p):\n",
    "    if v1 >= v2 + p:\n",
    "        return 1\n",
    "    elif v1 >= v2 + q:\n",
    "        return 1/2\n",
    "    return 0"
   ]
  },
  {
   "cell_type": "code",
   "execution_count": 19,
   "id": "29fff53d-a846-4341-9eaf-8a61bb582544",
   "metadata": {
    "tags": []
   },
   "outputs": [],
   "source": [
    "for a, row in df.iterrows():\n",
    "    for b, candidate in df.iterrows():\n",
    "        if a != b:\n",
    "            pi = []\n",
    "            for c in range(num_criteria):\n",
    "                ai = df.iloc[a][c]\n",
    "                bi = df.iloc[b][c]\n",
    "                g = calculate_g(ai, bi, q[c], p[c])\n",
    "                pi.append(g)\n",
    "            pi_array[a,b] = sum([pi[i]*w[i] for i in range(len(pi))]) / sum(w)"
   ]
  },
  {
   "cell_type": "code",
   "execution_count": 20,
   "id": "39cc8dd9-5eac-4de9-87a7-ed58b6d8600a",
   "metadata": {
    "tags": []
   },
   "outputs": [
    {
     "data": {
      "text/plain": [
       "array([[0.  , 0.15, 0.15, 0.15, 0.4 , 0.5 , 0.4 , 0.2 , 0.3 , 0.35, 0.6 ,\n",
       "        0.35, 0.3 , 0.35],\n",
       "       [0.45, 0.  , 0.45, 0.15, 0.6 , 0.8 , 0.6 , 0.4 , 0.4 , 0.55, 0.9 ,\n",
       "        0.55, 0.3 , 0.35],\n",
       "       [0.55, 0.35, 0.  , 0.15, 0.6 , 0.5 , 0.5 , 0.5 , 0.3 , 0.35, 0.8 ,\n",
       "        0.3 , 0.3 , 0.35],\n",
       "       [0.65, 0.55, 0.55, 0.  , 0.8 , 0.8 , 0.6 , 0.6 , 0.6 , 0.65, 0.9 ,\n",
       "        0.55, 0.4 , 0.55],\n",
       "       [0.2 , 0.  , 0.  , 0.  , 0.  , 0.2 , 0.25, 0.25, 0.  , 0.2 , 0.4 ,\n",
       "        0.05, 0.  , 0.2 ],\n",
       "       [0.2 , 0.  , 0.  , 0.  , 0.25, 0.  , 0.25, 0.15, 0.  , 0.1 , 0.3 ,\n",
       "        0.05, 0.15, 0.1 ],\n",
       "       [0.3 , 0.2 , 0.2 , 0.2 , 0.35, 0.2 , 0.  , 0.25, 0.2 , 0.2 , 0.5 ,\n",
       "        0.05, 0.2 , 0.2 ],\n",
       "       [0.25, 0.15, 0.25, 0.15, 0.4 , 0.6 , 0.4 , 0.  , 0.4 , 0.45, 0.9 ,\n",
       "        0.3 , 0.3 , 0.35],\n",
       "       [0.4 , 0.2 , 0.4 , 0.2 , 0.8 , 0.55, 0.6 , 0.45, 0.  , 0.2 , 0.65,\n",
       "        0.3 , 0.15, 0.2 ],\n",
       "       [0.2 , 0.  , 0.25, 0.  , 0.5 , 0.5 , 0.6 , 0.25, 0.15, 0.  , 0.45,\n",
       "        0.2 , 0.3 , 0.  ],\n",
       "       [0.  , 0.  , 0.  , 0.  , 0.3 , 0.15, 0.3 , 0.05, 0.15, 0.1 , 0.  ,\n",
       "        0.2 , 0.15, 0.1 ],\n",
       "       [0.5 , 0.2 , 0.4 , 0.2 , 0.6 , 0.65, 0.8 , 0.4 , 0.45, 0.3 , 0.75,\n",
       "        0.  , 0.35, 0.2 ],\n",
       "       [0.5 , 0.2 , 0.55, 0.2 , 0.65, 0.65, 0.45, 0.45, 0.1 , 0.4 , 0.6 ,\n",
       "        0.25, 0.  , 0.2 ],\n",
       "       [0.45, 0.15, 0.5 , 0.15, 0.6 , 0.6 , 0.6 , 0.4 , 0.4 , 0.25, 0.7 ,\n",
       "        0.45, 0.3 , 0.  ]])"
      ]
     },
     "execution_count": 20,
     "metadata": {},
     "output_type": "execute_result"
    }
   ],
   "source": [
    "pi_array"
   ]
  },
  {
   "cell_type": "code",
   "execution_count": 21,
   "id": "fdc96088-6f0b-45fd-a3f8-1be8f3011c59",
   "metadata": {
    "tags": []
   },
   "outputs": [],
   "source": [
    "positive_flows = []\n",
    "negative_flows = []\n",
    "accum_flows = []"
   ]
  },
  {
   "cell_type": "code",
   "execution_count": 22,
   "id": "97382202-56c0-4d5d-9746-08e687f8bec6",
   "metadata": {
    "tags": []
   },
   "outputs": [],
   "source": [
    "for col in range(num_variants):\n",
    "    negative_flows.append(sum(pi_array[col,:]))\n",
    "\n",
    "for row in range(num_variants):\n",
    "    positive_flows.append(sum(pi_array[:,row]))\n",
    "    \n",
    "for p, n in zip(positive_flows, negative_flows):\n",
    "    accum_flows.append(p-n)"
   ]
  },
  {
   "cell_type": "code",
   "execution_count": 26,
   "id": "86a5b482-2aa2-4b89-8e3a-6d68092cc070",
   "metadata": {
    "tags": []
   },
   "outputs": [
    {
     "data": {
      "text/plain": [
       "2.220446049250313e-15"
      ]
     },
     "execution_count": 26,
     "metadata": {},
     "output_type": "execute_result"
    }
   ],
   "source": [
    "sum(accum_flows) # we good"
   ]
  },
  {
   "cell_type": "code",
   "execution_count": 35,
   "id": "215d68ea-8f5f-4843-986b-14ac6ee5e838",
   "metadata": {
    "tags": []
   },
   "outputs": [],
   "source": [
    "def create_ranking(towns, flow, reverse=False):\n",
    "    town_flow = list(zip(towns, flow))\n",
    "    sorted_town_flow = sorted(town_flow, key=lambda x: x[1], reverse=reverse)\n",
    "    ranked_towns = [town for town, _ in sorted_town_flow]\n",
    "    for i, town in enumerate(ranked_towns, start=1):\n",
    "        print(f\"{i}. {town}\")"
   ]
  },
  {
   "cell_type": "code",
   "execution_count": 33,
   "id": "9929416b-d38a-4fc6-9428-fc2e5a65cb5a",
   "metadata": {
    "tags": []
   },
   "outputs": [
    {
     "name": "stdout",
     "output_type": "stream",
     "text": [
      "1. Poznań\n",
      "2. Bydgoszcz\n",
      "3. Zielona Góra\n",
      "4. Wrocław\n",
      "5. Łódź\n",
      "6. Warszawa\n",
      "7. Gdańsk\n",
      "8. Opole\n",
      "9. Lublin\n",
      "10. Białystok\n",
      "11. Kraków\n",
      "12. Kielce\n",
      "13. Katowice\n",
      "14. Rzeszów\n"
     ]
    }
   ],
   "source": [
    "create_ranking(towns, positive_flows)"
   ]
  },
  {
   "cell_type": "code",
   "execution_count": 36,
   "id": "28bd6608-313d-476f-8109-0a403005264f",
   "metadata": {
    "tags": []
   },
   "outputs": [
    {
     "name": "stdout",
     "output_type": "stream",
     "text": [
      "1. Poznań\n",
      "2. Bydgoszcz\n",
      "3. Warszawa\n",
      "4. Zielona Góra\n",
      "5. Gdańsk\n",
      "6. Wrocław\n",
      "7. Łódź\n",
      "8. Lublin\n",
      "9. Białystok\n",
      "10. Opole\n",
      "11. Kraków\n",
      "12. Katowice\n",
      "13. Kielce\n",
      "14. Rzeszów\n"
     ]
    }
   ],
   "source": [
    "create_ranking(towns, negative_flows, reverse=True)"
   ]
  },
  {
   "cell_type": "code",
   "execution_count": 37,
   "id": "31ba98e5-fe60-4441-8501-7440b6227bc9",
   "metadata": {
    "tags": []
   },
   "outputs": [
    {
     "name": "stdout",
     "output_type": "stream",
     "text": [
      "1. Poznań\n",
      "2. Bydgoszcz\n",
      "3. Zielona Góra\n",
      "4. Warszawa\n",
      "5. Wrocław\n",
      "6. Gdańsk\n",
      "7. Łódź\n",
      "8. Lublin\n",
      "9. Białystok\n",
      "10. Opole\n",
      "11. Kraków\n",
      "12. Katowice\n",
      "13. Kielce\n",
      "14. Rzeszów\n"
     ]
    }
   ],
   "source": [
    "create_ranking(towns, accum_flows)"
   ]
  },
  {
   "cell_type": "code",
   "execution_count": null,
   "id": "e3d95698-1d7d-4d6c-8134-3c089428e459",
   "metadata": {},
   "outputs": [],
   "source": [
    "# todo promethee I"
   ]
  }
 ],
 "metadata": {
  "kernelspec": {
   "display_name": "Python [conda env:data-science] *",
   "language": "python",
   "name": "conda-env-data-science-py"
  },
  "language_info": {
   "codemirror_mode": {
    "name": "ipython",
    "version": 3
   },
   "file_extension": ".py",
   "mimetype": "text/x-python",
   "name": "python",
   "nbconvert_exporter": "python",
   "pygments_lexer": "ipython3",
   "version": "3.9.17"
  }
 },
 "nbformat": 4,
 "nbformat_minor": 5
}
